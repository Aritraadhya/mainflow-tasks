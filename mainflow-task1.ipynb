{
  "nbformat": 4,
  "nbformat_minor": 0,
  "metadata": {
    "colab": {
      "provenance": []
    },
    "kernelspec": {
      "name": "python3",
      "display_name": "Python 3"
    },
    "language_info": {
      "name": "python"
    }
  },
  "cells": [
    {
      "cell_type": "markdown",
      "source": [
        "Data Selection and data loading:\n",
        "Downloading and reading a CSV file and displaying it as a DataFrame using Python and Pandas"
      ],
      "metadata": {
        "id": "-M4c6hBTrx0z"
      }
    },
    {
      "cell_type": "code",
      "execution_count": 12,
      "metadata": {
        "colab": {
          "base_uri": "https://localhost:8080/"
        },
        "id": "MmzdEvzZjM7s",
        "outputId": "d424d7e2-687c-49cf-ca32-f8c3f5b54e2a"
      },
      "outputs": [
        {
          "output_type": "stream",
          "name": "stdout",
          "text": [
            "    school sex  age address famsize Pstatus  Medu  Fedu      Mjob      Fjob  \\\n",
            "0       GP   F   18       U     GT3       A     4     4   at_home   teacher   \n",
            "1       GP   F   17       U     GT3       T     1     1   at_home     other   \n",
            "2       GP   F   15       U     LE3       T     1     1   at_home     other   \n",
            "3       GP   F   15       U     GT3       T     4     2    health  services   \n",
            "4       GP   F   16       U     GT3       T     3     3     other     other   \n",
            "..     ...  ..  ...     ...     ...     ...   ...   ...       ...       ...   \n",
            "390     MS   M   20       U     LE3       A     2     2  services  services   \n",
            "391     MS   M   17       U     LE3       T     3     1  services  services   \n",
            "392     MS   M   21       R     GT3       T     1     1     other     other   \n",
            "393     MS   M   18       R     LE3       T     3     2  services     other   \n",
            "394     MS   M   19       U     LE3       T     1     1     other   at_home   \n",
            "\n",
            "     ... famrel freetime  goout  Dalc  Walc health absences  G1  G2  G3  \n",
            "0    ...      4        3      4     1     1      3        6   5   6   6  \n",
            "1    ...      5        3      3     1     1      3        4   5   5   6  \n",
            "2    ...      4        3      2     2     3      3       10   7   8  10  \n",
            "3    ...      3        2      2     1     1      5        2  15  14  15  \n",
            "4    ...      4        3      2     1     2      5        4   6  10  10  \n",
            "..   ...    ...      ...    ...   ...   ...    ...      ...  ..  ..  ..  \n",
            "390  ...      5        5      4     4     5      4       11   9   9   9  \n",
            "391  ...      2        4      5     3     4      2        3  14  16  16  \n",
            "392  ...      5        5      3     3     3      3        3  10   8   7  \n",
            "393  ...      4        4      1     3     4      5        0  11  12  10  \n",
            "394  ...      3        2      3     3     3      5        5   8   9   9  \n",
            "\n",
            "[395 rows x 33 columns]\n"
          ]
        }
      ],
      "source": [
        "import pandas as pd\n",
        "\n",
        "# Replace 'your_file.csv' with the path to your CSV file\n",
        "file_path = 'student-mat.csv'\n",
        "\n",
        "# Read the CSV file into a DataFrame\n",
        "df = pd.read_csv(file_path, delimiter=';')\n",
        "\n",
        "# Display the DataFrame\n",
        "print(df)"
      ]
    },
    {
      "cell_type": "code",
      "source": [
        "# Display the first few rows\n",
        "print(\"First few rows of the dataset:\")\n",
        "print(df.head())"
      ],
      "metadata": {
        "colab": {
          "base_uri": "https://localhost:8080/"
        },
        "id": "zS7_-Y4LjjGU",
        "outputId": "6fbdd121-ac51-4629-debe-034485014625"
      },
      "execution_count": 13,
      "outputs": [
        {
          "output_type": "stream",
          "name": "stdout",
          "text": [
            "First few rows of the dataset:\n",
            "  school sex  age address famsize Pstatus  Medu  Fedu     Mjob      Fjob  ...  \\\n",
            "0     GP   F   18       U     GT3       A     4     4  at_home   teacher  ...   \n",
            "1     GP   F   17       U     GT3       T     1     1  at_home     other  ...   \n",
            "2     GP   F   15       U     LE3       T     1     1  at_home     other  ...   \n",
            "3     GP   F   15       U     GT3       T     4     2   health  services  ...   \n",
            "4     GP   F   16       U     GT3       T     3     3    other     other  ...   \n",
            "\n",
            "  famrel freetime  goout  Dalc  Walc health absences  G1  G2  G3  \n",
            "0      4        3      4     1     1      3        6   5   6   6  \n",
            "1      5        3      3     1     1      3        4   5   5   6  \n",
            "2      4        3      2     2     3      3       10   7   8  10  \n",
            "3      3        2      2     1     1      5        2  15  14  15  \n",
            "4      4        3      2     1     2      5        4   6  10  10  \n",
            "\n",
            "[5 rows x 33 columns]\n"
          ]
        }
      ]
    },
    {
      "cell_type": "markdown",
      "source": [
        "Data Exploration\n",
        "● Check for missing values using .isnull().sum().\n",
        "● Display column data types using .dtypes.\n",
        "● Understand the dataset's size using .shape."
      ],
      "metadata": {
        "id": "Tf5XcCjxvdoa"
      }
    },
    {
      "cell_type": "code",
      "source": [
        "# Task b: Data Exploration\n",
        "# Check for missing values\n",
        "print(\"\\nMissing values in each column:\")\n",
        "print(df.isnull().sum())\n",
        "\n",
        "# Display column data types\n",
        "print(\"\\nColumn data types:\")\n",
        "print(df.dtypes)\n",
        "\n",
        "# Understand the dataset's size\n",
        "print(\"\\nDataset size (rows, columns):\")\n",
        "print(df.shape)"
      ],
      "metadata": {
        "colab": {
          "base_uri": "https://localhost:8080/"
        },
        "id": "7V_3EibGn5EB",
        "outputId": "c42f5129-758b-4dc0-f2dc-9b632e911dce"
      },
      "execution_count": 14,
      "outputs": [
        {
          "output_type": "stream",
          "name": "stdout",
          "text": [
            "\n",
            "Missing values in each column:\n",
            "school        0\n",
            "sex           0\n",
            "age           0\n",
            "address       0\n",
            "famsize       0\n",
            "Pstatus       0\n",
            "Medu          0\n",
            "Fedu          0\n",
            "Mjob          0\n",
            "Fjob          0\n",
            "reason        0\n",
            "guardian      0\n",
            "traveltime    0\n",
            "studytime     0\n",
            "failures      0\n",
            "schoolsup     0\n",
            "famsup        0\n",
            "paid          0\n",
            "activities    0\n",
            "nursery       0\n",
            "higher        0\n",
            "internet      0\n",
            "romantic      0\n",
            "famrel        0\n",
            "freetime      0\n",
            "goout         0\n",
            "Dalc          0\n",
            "Walc          0\n",
            "health        0\n",
            "absences      0\n",
            "G1            0\n",
            "G2            0\n",
            "G3            0\n",
            "dtype: int64\n",
            "\n",
            "Column data types:\n",
            "school        object\n",
            "sex           object\n",
            "age            int64\n",
            "address       object\n",
            "famsize       object\n",
            "Pstatus       object\n",
            "Medu           int64\n",
            "Fedu           int64\n",
            "Mjob          object\n",
            "Fjob          object\n",
            "reason        object\n",
            "guardian      object\n",
            "traveltime     int64\n",
            "studytime      int64\n",
            "failures       int64\n",
            "schoolsup     object\n",
            "famsup        object\n",
            "paid          object\n",
            "activities    object\n",
            "nursery       object\n",
            "higher        object\n",
            "internet      object\n",
            "romantic      object\n",
            "famrel         int64\n",
            "freetime       int64\n",
            "goout          int64\n",
            "Dalc           int64\n",
            "Walc           int64\n",
            "health         int64\n",
            "absences       int64\n",
            "G1             int64\n",
            "G2             int64\n",
            "G3             int64\n",
            "dtype: object\n",
            "\n",
            "Dataset size (rows, columns):\n",
            "(395, 33)\n"
          ]
        }
      ]
    },
    {
      "cell_type": "markdown",
      "source": [
        "Data Cleaning\n",
        "● Handle missing values (e.g., replace them with the median or remove rows).\n",
        "● Remove duplicate entries using .drop_duplicates()."
      ],
      "metadata": {
        "id": "3fOxzHfmvv3y"
      }
    },
    {
      "cell_type": "code",
      "source": [
        "# Handle Missing Values\n",
        "# Replace missing values with the median for numerical columns\n",
        "df.fillna(df.median(numeric_only=True), inplace=True)\n",
        "\n",
        "# For categorical columns, replace missing values with the most frequent value (mode)\n",
        "for column in df.select_dtypes(include='object').columns:\n",
        "    df[column].fillna(df[column].mode()[0], inplace=True)\n",
        "\n",
        "# Remove Duplicate Entries (in place)\n",
        "df.drop_duplicates(inplace=True)\n",
        "\n",
        "# Display the cleaned dataset's first few rows\n",
        "print(\"First few rows of the cleaned dataset:\")\n",
        "print(df.head())\n",
        "\n",
        "# Verify the cleaning steps\n",
        "print(\"\\nMissing values after cleaning:\")\n",
        "print(df.isnull().sum())\n",
        "\n",
        "print(\"\\nDataset size after cleaning (rows, columns):\")\n",
        "print(df.shape)"
      ],
      "metadata": {
        "colab": {
          "base_uri": "https://localhost:8080/"
        },
        "id": "DzF42VsQkzg4",
        "outputId": "8132e15a-d71e-47b2-c903-1cd2e2064bb6"
      },
      "execution_count": 15,
      "outputs": [
        {
          "output_type": "stream",
          "name": "stdout",
          "text": [
            "First few rows of the cleaned dataset:\n",
            "  school sex  age address famsize Pstatus  Medu  Fedu     Mjob      Fjob  ...  \\\n",
            "0     GP   F   18       U     GT3       A     4     4  at_home   teacher  ...   \n",
            "1     GP   F   17       U     GT3       T     1     1  at_home     other  ...   \n",
            "2     GP   F   15       U     LE3       T     1     1  at_home     other  ...   \n",
            "3     GP   F   15       U     GT3       T     4     2   health  services  ...   \n",
            "4     GP   F   16       U     GT3       T     3     3    other     other  ...   \n",
            "\n",
            "  famrel freetime  goout  Dalc  Walc health absences  G1  G2  G3  \n",
            "0      4        3      4     1     1      3        6   5   6   6  \n",
            "1      5        3      3     1     1      3        4   5   5   6  \n",
            "2      4        3      2     2     3      3       10   7   8  10  \n",
            "3      3        2      2     1     1      5        2  15  14  15  \n",
            "4      4        3      2     1     2      5        4   6  10  10  \n",
            "\n",
            "[5 rows x 33 columns]\n",
            "\n",
            "Missing values after cleaning:\n",
            "school        0\n",
            "sex           0\n",
            "age           0\n",
            "address       0\n",
            "famsize       0\n",
            "Pstatus       0\n",
            "Medu          0\n",
            "Fedu          0\n",
            "Mjob          0\n",
            "Fjob          0\n",
            "reason        0\n",
            "guardian      0\n",
            "traveltime    0\n",
            "studytime     0\n",
            "failures      0\n",
            "schoolsup     0\n",
            "famsup        0\n",
            "paid          0\n",
            "activities    0\n",
            "nursery       0\n",
            "higher        0\n",
            "internet      0\n",
            "romantic      0\n",
            "famrel        0\n",
            "freetime      0\n",
            "goout         0\n",
            "Dalc          0\n",
            "Walc          0\n",
            "health        0\n",
            "absences      0\n",
            "G1            0\n",
            "G2            0\n",
            "G3            0\n",
            "dtype: int64\n",
            "\n",
            "Dataset size after cleaning (rows, columns):\n",
            "(395, 33)\n"
          ]
        },
        {
          "output_type": "stream",
          "name": "stderr",
          "text": [
            "<ipython-input-15-b259af10367b>:7: FutureWarning: A value is trying to be set on a copy of a DataFrame or Series through chained assignment using an inplace method.\n",
            "The behavior will change in pandas 3.0. This inplace method will never work because the intermediate object on which we are setting values always behaves as a copy.\n",
            "\n",
            "For example, when doing 'df[col].method(value, inplace=True)', try using 'df.method({col: value}, inplace=True)' or df[col] = df[col].method(value) instead, to perform the operation inplace on the original object.\n",
            "\n",
            "\n",
            "  df[column].fillna(df[column].mode()[0], inplace=True)\n"
          ]
        }
      ]
    },
    {
      "cell_type": "markdown",
      "source": [
        "Explanation:\n",
        "Handle Missing Values:\n",
        "\n",
        "For numerical columns, missing values are replaced with the median.\n",
        "For categorical columns, missing values are replaced with the most frequent value (mode).\n",
        "Remove Duplicates:\n",
        "\n",
        ".drop_duplicates() removes any duplicate rows from the dataset.\n",
        "After running this code, the dataset will be cleaned with no missing values or duplicate entries."
      ],
      "metadata": {
        "id": "l0b1pCN7wE4C"
      }
    },
    {
      "cell_type": "code",
      "source": [
        "# Question 1: What is the average score in math (G3)?\n",
        "average_g3 = df['G3'].mean()\n",
        "print(f\"Average score in math (G3): {average_g3:.2f}\")\n",
        "\n",
        "# Question 2: How many students scored above 15 in their final grade (G3)?\n",
        "students_above_15 = df[df['G3'] > 15].shape[0]\n",
        "print(f\"Number of students who scored above 15 in their final grade (G3): {students_above_15}\")\n",
        "\n",
        "# Question 3: Is there a correlation between study time and the final grade (G3)?\n",
        "correlation = df['studytime'].corr(df['G3'])\n",
        "print(f\"Correlation between study time and final grade (G3): {correlation:.2f}\")\n",
        "\n",
        "# Question 4: Which gender has a higher average final grade (G3)?\n",
        "average_g3_by_gender = df.groupby('sex')['G3'].mean()\n",
        "print(\"\\nAverage final grade (G3) by gender:\")\n",
        "print(average_g3_by_gender)\n",
        "\n",
        "# Determine which gender has the higher average final grade\n",
        "higher_gender = average_g3_by_gender.idxmax()\n",
        "print(f\"\\nGender with higher average final grade: {higher_gender}\")"
      ],
      "metadata": {
        "colab": {
          "base_uri": "https://localhost:8080/"
        },
        "id": "ncVlmnn5wo6D",
        "outputId": "b53b7137-7081-4ffd-cd7d-00d6ec9d6bfb"
      },
      "execution_count": 18,
      "outputs": [
        {
          "output_type": "stream",
          "name": "stdout",
          "text": [
            "Average score in math (G3): 10.42\n",
            "Number of students who scored above 15 in their final grade (G3): 40\n",
            "Correlation between study time and final grade (G3): 0.10\n",
            "\n",
            "Average final grade (G3) by gender:\n",
            "sex\n",
            "F     9.966346\n",
            "M    10.914439\n",
            "Name: G3, dtype: float64\n",
            "\n",
            "Gender with higher average final grade: M\n"
          ]
        }
      ]
    },
    {
      "cell_type": "markdown",
      "source": [
        "Explanation:\n",
        "Average Score in Math (G3):\n",
        "\n",
        "df['G3'].mean() calculates the mean of the G3 column.\n",
        "Students Scoring Above 15:\n",
        "\n",
        "df[df['G3'] > 15].shape[0] filters rows where G3 > 15 and counts the resulting rows.\n",
        "Correlation Between Study Time and Final Grade:\n",
        "\n",
        ".corr() calculates the correlation coefficient between studytime and G3.\n",
        "Average Final Grade by Gender:\n",
        "\n",
        ".groupby('sex')['G3'].mean() computes the average G3 for each gender.\n",
        ".idxmax() finds the gender with the highest average."
      ],
      "metadata": {
        "id": "kZleMslHxMi8"
      }
    },
    {
      "cell_type": "code",
      "source": [
        "import matplotlib.pyplot as plt\n",
        "import seaborn as sns\n",
        "\n",
        "# Ensure inline plotting in Jupyter Notebook (if you're using it)\n",
        "# %matplotlib inline\n",
        "\n",
        "# 1. Plot a histogram of final grades (G3)\n",
        "plt.figure(figsize=(8, 5))\n",
        "sns.histplot(df['G3'], bins=10, kde=False, color='blue')\n",
        "plt.title('Histogram of Final Grades (G3)')\n",
        "plt.xlabel('Final Grades (G3)')\n",
        "plt.ylabel('Frequency')\n",
        "plt.show()\n",
        "\n",
        "# 2. Create a scatter plot between study time and final grade (G3)\n",
        "plt.figure(figsize=(8, 5))\n",
        "sns.scatterplot(x=df['studytime'], y=df['G3'], hue=df['sex'], palette='cool')\n",
        "plt.title('Scatter Plot: Study Time vs Final Grade')\n",
        "plt.xlabel('Study Time (hours/week)')\n",
        "plt.ylabel('Final Grades (G3)')\n",
        "plt.legend(title='Gender')\n",
        "plt.show()\n",
        "\n",
        "# 3. Create a bar chart comparing the average scores of male and female students\n",
        "plt.figure(figsize=(8, 5))\n",
        "average_scores_by_gender = df.groupby('sex')['G3'].mean().reset_index()\n",
        "sns.barplot(x='sex', y='G3', data=average_scores_by_gender, palette='pastel')\n",
        "plt.title('Average Final Grades by Gender')\n",
        "plt.xlabel('Gender')\n",
        "plt.ylabel('Average Final Grade (G3)')\n",
        "plt.show()\n"
      ],
      "metadata": {
        "colab": {
          "base_uri": "https://localhost:8080/",
          "height": 1000
        },
        "id": "hEUbTm6hqLWx",
        "outputId": "4b906b4b-8afa-4eec-de4c-fc663490bdb1"
      },
      "execution_count": 16,
      "outputs": [
        {
          "output_type": "display_data",
          "data": {
            "text/plain": [
              "<Figure size 800x500 with 1 Axes>"
            ],
            "image/png": "[encoded data removed]"
          },
          "metadata": {}
        },
        {
          "output_type": "display_data",
          "data": {
            "text/plain": [
              "<Figure size 800x500 with 1 Axes>"
            ],
            "image/png": "[encoded data removed]"
          },
          "metadata": {}
        },
        {
          "output_type": "stream",
          "name": "stderr",
          "text": [
            "<ipython-input-16-30187a4381d1>:27: FutureWarning: \n",
            "\n",
            "Passing `palette` without assigning `hue` is deprecated and will be removed in v0.14.0. Assign the `x` variable to `hue` and set `legend=False` for the same effect.\n",
            "\n",
            "  sns.barplot(x='sex', y='G3', data=average_scores_by_gender, palette='pastel')\n"
          ]
        },
        {
          "output_type": "display_data",
          "data": {
            "text/plain": [
              "<Figure size 800x500 with 1 Axes>"
            ],
            "image/png": "[encoded data removed]"
          },
          "metadata": {}
        }
      ]
    },
    {
      "cell_type": "markdown",
      "source": [
        "Explanation:\n",
        "Histogram of Final Grades (G3):\n",
        "\n",
        "Displays the distribution of final grades in the dataset.\n",
        "bins=10 divides the grades into 10 intervals.\n",
        "Scatter Plot (Study Time vs. G3):\n",
        "\n",
        "Shows the relationship between study time and final grades.\n",
        "Includes a hue for gender to add an extra dimension to the visualization.\n",
        "Bar Chart (Average Scores by Gender):\n",
        "\n",
        "Groups the data by gender and calculates the average G3 for each group.\n",
        "Visualizes the comparison using a bar chart.\n",
        "Result:\n",
        "These visualizations help analyze the grade distribution, the relationship between study habits and performance, and the gender-wise average grade comparison."
      ],
      "metadata": {
        "id": "9cwR85mTx69j"
      }
    }
  ]
}